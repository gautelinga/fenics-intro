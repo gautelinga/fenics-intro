{
 "cells": [
  {
   "cell_type": "code",
   "execution_count": 1,
   "metadata": {},
   "outputs": [
    {
     "name": "stdout",
     "output_type": "stream",
     "text": [
      "No Jacobian form specified for nonlinear variational problem.Calling FFC just-in-time (JIT) compiler, this may take some time.\n",
      "\n",
      "Differentiating residual form F to obtain Jacobian J = F'.\n",
      "Calling FFC just-in-time (JIT) compiler, this may take some time.\n",
      "Solving nonlinear variational problem.\n",
      "  Newton iteration 0: r (abs) = 2.329e+01 (tol = 1.000e-10) r (rel) = 1.000e+00 (tol = 1.000e-09)\n",
      "  Newton iteration 1: r (abs) = 2.133e-13 (tol = 1.000e-10) r (rel) = 9.157e-15 (tol = 1.000e-09)\n",
      "  Newton solver finished in 1 iterations and 1 linear solver iterations.\n",
      "Calling FFC just-in-time (JIT) compiler, this may take some time.\n",
      "No Jacobian form specified for nonlinear variational problem.\n",
      "Differentiating residual form F to obtain Jacobian J = F'.\n",
      "Calling FFC just-in-time (JIT) compiler, this may take some time.\n",
      "Solving nonlinear variational problem.\n",
      "  Newton iteration 0: r (abs) = 5.106e+01 (tol = 1.000e-10) r (rel) = 1.000e+00 (tol = 1.000e-09)\n",
      "  Newton iteration 1: r (abs) = 3.240e+00 (tol = 1.000e-10) r (rel) = 6.345e-02 (tol = 1.000e-09)\n",
      "  Newton iteration 2: r (abs) = 2.432e-01 (tol = 1.000e-10) r (rel) = 4.764e-03 (tol = 1.000e-09)\n",
      "  Newton iteration 3: r (abs) = 3.900e-02 (tol = 1.000e-10) r (rel) = 7.637e-04 (tol = 1.000e-09)\n",
      "  Newton iteration 4: r (abs) = 2.900e-03 (tol = 1.000e-10) r (rel) = 5.680e-05 (tol = 1.000e-09)\n",
      "  Newton iteration 5: r (abs) = 3.782e-05 (tol = 1.000e-10) r (rel) = 7.407e-07 (tol = 1.000e-09)\n",
      "  Newton iteration 6: r (abs) = 2.845e-07 (tol = 1.000e-10) r (rel) = 5.571e-09 (tol = 1.000e-09)\n",
      "  Newton iteration 7: r (abs) = 4.071e-09 (tol = 1.000e-10) r (rel) = 7.972e-11 (tol = 1.000e-09)\n",
      "  Newton solver finished in 7 iterations and 7 linear solver iterations.\n"
     ]
    }
   ],
   "source": [
    "import dolfin as df\n",
    "import ufl\n",
    "\n",
    "mesh = df.UnitSquareMesh(40, 40)\n",
    "# mesh = df.UnitSquareMesh.create(40, 40, df.CellType.Type.quadrilateral)\n",
    "\n",
    "V = df.VectorElement(\"Lagrange\", mesh.ufl_cell(), 2)\n",
    "P = df.FiniteElement(\"Lagrange\", mesh.ufl_cell(), 1)\n",
    "VP = df.MixedElement([V, P])\n",
    "W = df.FunctionSpace(mesh, VP)\n",
    "\n",
    "w = df.Function(W)\n",
    "u, p = df.split(w)\n",
    "v, q = df.TestFunctions(W)\n",
    "\n",
    "def symgrad(u):\n",
    "    return df.sym(df.nabla_grad(u))\n",
    "\n",
    "def gamma(u):\n",
    "    return df.sqrt(df.inner(symgrad(u), symgrad(u)))\n",
    "\n",
    "def visc(u, beta):\n",
    "    # Power-law fluid\n",
    "    return gamma(u)**(beta-1.0)\n",
    "    # return df.Constant(1.)*(1.0+0.000*ufl.min_value(df.sqrt(df.inner(symgrad(u), symgrad(u))), 1.))\n",
    "\n",
    "def a(u, v):\n",
    "    return 2*visc(u, 2.0)*df.inner(symgrad(u), symgrad(v))*df.dx\n",
    "\n",
    "def a_lin(u, v):\n",
    "    return 2*visc(u, 1.0)*df.inner(symgrad(u), symgrad(v))*df.dx\n",
    "\n",
    "def b(v, p):\n",
    "    return p*df.div(v)*df.dx\n",
    "\n",
    "def nl(u, v, R):\n",
    "    # return df.dot(u, df.nabla_grad(u))\n",
    "    return R*df.inner(df.nabla_grad(u), df.outer(u, v))*df.dx\n",
    "\n",
    "f = df.Constant((0., 0.))\n",
    "\n",
    "A_lin = a_lin(u, v) + b(v, p) + b(u, q) #+ nl(u, v, 0.)\n",
    "A = a(u, v) + b(v, p) + b(u, q) #+ nl(u, v, 0.)\n",
    "L = df.dot(f, v)*df.dx\n",
    "\n",
    "u0 = df.Constant((1., 0.))\n",
    "noslip = df.Constant((0., 0.))\n",
    "\n",
    "def top(x, on_boundary):\n",
    "    return on_boundary and x[1] > 1.0-df.DOLFIN_EPS\n",
    "\n",
    "def wall(x, on_boundary):\n",
    "    return on_boundary and x[1] <= 1.0-df.DOLFIN_EPS\n",
    "\n",
    "bc_top = df.DirichletBC(W.sub(0), u0, top)\n",
    "bc_wall = df.DirichletBC(W.sub(0), noslip, wall)\n",
    "bc_p = df.DirichletBC(W.sub(1), df.Constant(0.), \"x[0] < DOLFIN_EPS && x[1] < DOLFIN_EPS\", \"pointwise\")\n",
    "bcs = [bc_top, bc_wall, bc_p]\n",
    "\n",
    "# Initial guess\n",
    "F_lin = A_lin - L\n",
    "df.solve(F_lin == 0, w, bcs)\n",
    "\n",
    "# Actual problem\n",
    "F = A-L\n",
    "df.solve(F == 0, w, bcs)"
   ]
  },
  {
   "cell_type": "code",
   "execution_count": 2,
   "metadata": {},
   "outputs": [
    {
     "name": "stdout",
     "output_type": "stream",
     "text": [
      "Object cannot be plotted directly, projecting to piecewise linears.\n"
     ]
    },
    {
     "data": {
      "text/plain": [
       "<matplotlib.tri.tricontour.TriContourSet at 0x7fc23ae186d0>"
      ]
     },
     "execution_count": 2,
     "metadata": {},
     "output_type": "execute_result"
    },
    {
     "data": {
      "image/png": "[encoded data removed]",
      "text/plain": [
       "<Figure size 432x288 with 1 Axes>"
      ]
     },
     "metadata": {
      "needs_background": "light"
     },
     "output_type": "display_data"
    }
   ],
   "source": [
    "import matplotlib.pyplot as plt\n",
    "df.plot(u[1])\n",
    "\n",
    "#gradu = 1 + (df.sqrt(df.inner(symgrad(u), symgrad(u)))**(-1) + 0.5**(-1))**(-1)\n",
    "#fig = df.plot(gradu)\n",
    "#plt.colorbar(fig)"
   ]
  },
  {
   "cell_type": "code",
   "execution_count": 3,
   "metadata": {},
   "outputs": [
    {
     "name": "stdout",
     "output_type": "stream",
     "text": [
      "Object cannot be plotted directly, projecting to piecewise linears.\n",
      "Calling FFC just-in-time (JIT) compiler, this may take some time.\n"
     ]
    },
    {
     "data": {
      "image/png": "[encoded data removed]",
      "text/plain": [
       "<Figure size 432x288 with 1 Axes>"
      ]
     },
     "metadata": {
      "needs_background": "light"
     },
     "output_type": "display_data"
    }
   ],
   "source": [
    "df.plot(gamma(u))\n",
    "plt.show()"
   ]
  },
  {
   "cell_type": "code",
   "execution_count": null,
   "metadata": {},
   "outputs": [],
   "source": []
  }
 ],
 "metadata": {
  "interpreter": {
   "hash": "916dbcbb3f70747c44a77c7bcd40155683ae19c65e1c03b4aa3499c5328201f1"
  },
  "kernelspec": {
   "display_name": "Python 3.9.7 64-bit",
   "name": "python3"
  },
  "language_info": {
   "codemirror_mode": {
    "name": "ipython",
    "version": 3
   },
   "file_extension": ".py",
   "mimetype": "text/x-python",
   "name": "python",
   "nbconvert_exporter": "python",
   "pygments_lexer": "ipython3",
   "version": "3.9.7"
  }
 },
 "nbformat": 4,
 "nbformat_minor": 2
}
